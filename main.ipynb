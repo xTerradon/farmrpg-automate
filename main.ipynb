{
 "cells": [
  {
   "cell_type": "code",
   "execution_count": 261,
   "metadata": {},
   "outputs": [
    {
     "name": "stdout",
     "output_type": "stream",
     "text": [
      "Requirement already satisfied: pip in c:\\users\\luisb\\appdata\\local\\programs\\python\\python312\\lib\\site-packages (23.3.1)\n"
     ]
    }
   ],
   "source": [
    "!python -m pip install --upgrade pip"
   ]
  },
  {
   "cell_type": "code",
   "execution_count": 262,
   "metadata": {},
   "outputs": [],
   "source": [
    "import os\n",
    "import time\n",
    "import codecs\n",
    "\n",
    "import numpy as np\n",
    "import pandas as pd\n",
    "\n",
    "from selenium import webdriver\n",
    "from selenium.webdriver.common.action_chains import ActionChains\n",
    "from selenium.webdriver.support.ui import WebDriverWait, Select\n",
    "from selenium.webdriver.support import expected_conditions as EC\n",
    "from selenium.webdriver.common.by import By\n",
    "from selenium.webdriver.chrome.service import Service as ChromeService\n",
    "\n",
    "from webdriver_manager.chrome import ChromeDriverManager\n"
   ]
  },
  {
   "cell_type": "code",
   "execution_count": 263,
   "metadata": {},
   "outputs": [],
   "source": [
    "USERNAME = \"amelia99\"\n",
    "PASSWORD = os.environ.get('password') \n",
    "if PASSWORD is None:\n",
    "    PASSWORD = input(\"Please enter your password: \")"
   ]
  },
  {
   "cell_type": "code",
   "execution_count": 264,
   "metadata": {},
   "outputs": [],
   "source": [
    "driver = webdriver.Chrome(service=ChromeService(ChromeDriverManager().install()))\n",
    "MAIN_URL = \"https://farmrpg.com/\"\n",
    "driver.get(MAIN_URL)"
   ]
  },
  {
   "cell_type": "code",
   "execution_count": 287,
   "metadata": {},
   "outputs": [
    {
     "data": {
      "text/html": [
       "<div>\n",
       "<style scoped>\n",
       "    .dataframe tbody tr th:only-of-type {\n",
       "        vertical-align: middle;\n",
       "    }\n",
       "\n",
       "    .dataframe tbody tr th {\n",
       "        vertical-align: top;\n",
       "    }\n",
       "\n",
       "    .dataframe thead th {\n",
       "        text-align: right;\n",
       "    }\n",
       "</style>\n",
       "<table border=\"1\" class=\"dataframe\">\n",
       "  <thead>\n",
       "    <tr style=\"text-align: right;\">\n",
       "      <th></th>\n",
       "      <th>name</th>\n",
       "      <th>url</th>\n",
       "    </tr>\n",
       "  </thead>\n",
       "  <tbody>\n",
       "    <tr>\n",
       "      <th>0</th>\n",
       "      <td>home</td>\n",
       "      <td>https://farmrpg.com/</td>\n",
       "    </tr>\n",
       "    <tr>\n",
       "      <th>1</th>\n",
       "      <td>farm</td>\n",
       "      <td>https://farmrpg.com/#!/xfarm.php?id=343807</td>\n",
       "    </tr>\n",
       "    <tr>\n",
       "      <th>2</th>\n",
       "      <td>explore</td>\n",
       "      <td>https://farmrpg.com/#!/explore.php</td>\n",
       "    </tr>\n",
       "    <tr>\n",
       "      <th>3</th>\n",
       "      <td>mount banon</td>\n",
       "      <td>https://farmrpg.com/#!/area.php?id=8</td>\n",
       "    </tr>\n",
       "    <tr>\n",
       "      <th>4</th>\n",
       "      <td>forest</td>\n",
       "      <td>https://farmrpg.com/#!/area.php?id=7</td>\n",
       "    </tr>\n",
       "    <tr>\n",
       "      <th>5</th>\n",
       "      <td>help</td>\n",
       "      <td>https://farmrpg.com/#!/quests.php</td>\n",
       "    </tr>\n",
       "    <tr>\n",
       "      <th>6</th>\n",
       "      <td>inventory</td>\n",
       "      <td>https://farmrpg.com/#!/inventory.php</td>\n",
       "    </tr>\n",
       "    <tr>\n",
       "      <th>7</th>\n",
       "      <td>login</td>\n",
       "      <td>https://farmrpg.com/#!/login.php</td>\n",
       "    </tr>\n",
       "    <tr>\n",
       "      <th>8</th>\n",
       "      <td>home</td>\n",
       "      <td>https://farmrpg.com/#!/index.php</td>\n",
       "    </tr>\n",
       "    <tr>\n",
       "      <th>9</th>\n",
       "      <td>fish</td>\n",
       "      <td>https://farmrpg.com/#!/fish.php</td>\n",
       "    </tr>\n",
       "    <tr>\n",
       "      <th>10</th>\n",
       "      <td>vast ocean</td>\n",
       "      <td>https://farmrpg.com/#!/fishing.php?id=8</td>\n",
       "    </tr>\n",
       "  </tbody>\n",
       "</table>\n",
       "</div>"
      ],
      "text/plain": [
       "           name                                         url\n",
       "0          home                        https://farmrpg.com/\n",
       "1          farm  https://farmrpg.com/#!/xfarm.php?id=343807\n",
       "2       explore          https://farmrpg.com/#!/explore.php\n",
       "3   mount banon        https://farmrpg.com/#!/area.php?id=8\n",
       "4        forest        https://farmrpg.com/#!/area.php?id=7\n",
       "5          help           https://farmrpg.com/#!/quests.php\n",
       "6     inventory        https://farmrpg.com/#!/inventory.php\n",
       "7         login            https://farmrpg.com/#!/login.php\n",
       "8          home            https://farmrpg.com/#!/index.php\n",
       "9          fish             https://farmrpg.com/#!/fish.php\n",
       "10   vast ocean     https://farmrpg.com/#!/fishing.php?id=8"
      ]
     },
     "execution_count": 287,
     "metadata": {},
     "output_type": "execute_result"
    }
   ],
   "source": [
    "location_urls = pd.read_csv(\"location_urls.csv\")\n",
    "location_urls"
   ]
  },
  {
   "cell_type": "code",
   "execution_count": 288,
   "metadata": {},
   "outputs": [
    {
     "data": {
      "text/html": [
       "<div>\n",
       "<style scoped>\n",
       "    .dataframe tbody tr th:only-of-type {\n",
       "        vertical-align: middle;\n",
       "    }\n",
       "\n",
       "    .dataframe tbody tr th {\n",
       "        vertical-align: top;\n",
       "    }\n",
       "\n",
       "    .dataframe thead th {\n",
       "        text-align: right;\n",
       "    }\n",
       "</style>\n",
       "<table border=\"1\" class=\"dataframe\">\n",
       "  <thead>\n",
       "    <tr style=\"text-align: right;\">\n",
       "      <th></th>\n",
       "      <th>name</th>\n",
       "      <th>xpath</th>\n",
       "    </tr>\n",
       "  </thead>\n",
       "  <tbody>\n",
       "    <tr>\n",
       "      <th>0</th>\n",
       "      <td>farm</td>\n",
       "      <td>//div[@class=\"view view-main navbar-through\"]/...</td>\n",
       "    </tr>\n",
       "    <tr>\n",
       "      <th>1</th>\n",
       "      <td>inventory</td>\n",
       "      <td>//div[@class=\"view view-main navbar-through\"]/...</td>\n",
       "    </tr>\n",
       "    <tr>\n",
       "      <th>2</th>\n",
       "      <td>explore</td>\n",
       "      <td>//div[@class=\"view view-main navbar-through\"]/...</td>\n",
       "    </tr>\n",
       "    <tr>\n",
       "      <th>3</th>\n",
       "      <td>fish</td>\n",
       "      <td>//div[@class=\"view view-main navbar-through\"]/...</td>\n",
       "    </tr>\n",
       "  </tbody>\n",
       "</table>\n",
       "</div>"
      ],
      "text/plain": [
       "        name                                              xpath\n",
       "0       farm  //div[@class=\"view view-main navbar-through\"]/...\n",
       "1  inventory  //div[@class=\"view view-main navbar-through\"]/...\n",
       "2    explore  //div[@class=\"view view-main navbar-through\"]/...\n",
       "3       fish  //div[@class=\"view view-main navbar-through\"]/..."
      ]
     },
     "execution_count": 288,
     "metadata": {},
     "output_type": "execute_result"
    }
   ],
   "source": [
    "location_xpaths = pd.read_csv(\"location_xpaths.csv\", delimiter=\";\")\n",
    "location_xpaths"
   ]
  },
  {
   "cell_type": "code",
   "execution_count": 267,
   "metadata": {},
   "outputs": [
    {
     "name": "stdout",
     "output_type": "stream",
     "text": [
      "https://farmrpg.com/\n"
     ]
    },
    {
     "data": {
      "text/plain": [
       "'home'"
      ]
     },
     "execution_count": 267,
     "metadata": {},
     "output_type": "execute_result"
    }
   ],
   "source": [
    "def get_current_location():\n",
    "    print(driver.current_url)\n",
    "\n",
    "    try:\n",
    "        return location_urls[location_urls[\"url\"] == driver.current_url].iloc[0,0]\n",
    "    except:\n",
    "        print(f\"Location {driver.current_url} not found in locations.csv\")\n",
    "        return None\n",
    "\n",
    "get_current_location()"
   ]
  },
  {
   "cell_type": "code",
   "execution_count": 268,
   "metadata": {},
   "outputs": [],
   "source": [
    "def is_refresh_button_available():\n",
    "    return bool(len(driver.find_elements(By.XPATH, \"//i[@aria-label='Refresh Game']\")))"
   ]
  },
  {
   "cell_type": "code",
   "execution_count": 270,
   "metadata": {},
   "outputs": [],
   "source": [
    "def goto(target_location):\n",
    "    target_location = target_location.lower()\n",
    "    current_location = get_current_location()\n",
    "    if current_location != target_location:\n",
    "        print(f\"GOTO:  {current_location} -> {target_location}\")\n",
    "        \n",
    "        driver.get(MAIN_URL)\n",
    "        \n",
    "        if target_location == \"home\":\n",
    "            return\n",
    "        elif target_location in location_xpaths[\"name\"].values.tolist():\n",
    "            xpath =  location_xpaths.loc[location_xpaths[\"name\"] == target_location,\"xpath\"].iloc[0]\n",
    "            print(xpath)\n",
    "            WebDriverWait(driver, 1).until(EC.presence_of_element_located((By.XPATH, xpath)))\n",
    "            driver.find_element(By.XPATH, xpath).click()\n",
    "        else:\n",
    "            print(\"Sorry, this Location has not been added yet!\")\n",
    "\n",
    "# goto(\"inventory\")\n",
    "# location_xpaths[\"name\"].values.tolist()"
   ]
  },
  {
   "cell_type": "code",
   "execution_count": 271,
   "metadata": {},
   "outputs": [],
   "source": [
    "def is_logged_in():\n",
    "    goto(\"home\")\n",
    "\n",
    "    if driver.find_element(By.XPATH, \"//div[@id='logged_in_username']\").get_attribute(\"innerHTML\") == USERNAME:\n",
    "        return True\n",
    "    return False"
   ]
  },
  {
   "cell_type": "code",
   "execution_count": 272,
   "metadata": {},
   "outputs": [
    {
     "name": "stdout",
     "output_type": "stream",
     "text": [
      "https://farmrpg.com/\n",
      "https://farmrpg.com/index.php\n",
      "Location https://farmrpg.com/index.php not found in locations.csv\n",
      "GOTO:  None -> home\n",
      "Successfully logged in as amelia99\n"
     ]
    }
   ],
   "source": [
    "def login_user(username, password):\n",
    "    if is_logged_in():\n",
    "        print(f\"Already logged in as {username}\")\n",
    "        return\n",
    "\n",
    "    login_div = driver.find_element(By.XPATH, \"//div[contains(text(), 'Login')]\")\n",
    "    login_div.click()\n",
    "\n",
    "    time.sleep(1)\n",
    "\n",
    "    username_input = driver.find_element(By.XPATH, \"//input[@name='username']\")\n",
    "    username_input.send_keys(username)\n",
    "\n",
    "    password_input = driver.find_element(By.XPATH, \"//input[@name='password']\")\n",
    "    password_input.send_keys(password)\n",
    "\n",
    "    login_button = driver.find_element(By.XPATH, \"//input[@value='Login']\")\n",
    "    login_button.click()\n",
    "\n",
    "    time.sleep(1)\n",
    "\n",
    "    if is_logged_in():\n",
    "        print(f\"Successfully logged in as {username}\")\n",
    "    else:\n",
    "        login_user(username, password)\n",
    "\n",
    "login_user(USERNAME, PASSWORD)\n"
   ]
  },
  {
   "cell_type": "code",
   "execution_count": 273,
   "metadata": {},
   "outputs": [
    {
     "name": "stdout",
     "output_type": "stream",
     "text": [
      "https://farmrpg.com/\n",
      "Set Farm URL to https://farmrpg.com/#!/xfarm.php?id=343807\n"
     ]
    },
    {
     "data": {
      "text/html": [
       "<div>\n",
       "<style scoped>\n",
       "    .dataframe tbody tr th:only-of-type {\n",
       "        vertical-align: middle;\n",
       "    }\n",
       "\n",
       "    .dataframe tbody tr th {\n",
       "        vertical-align: top;\n",
       "    }\n",
       "\n",
       "    .dataframe thead th {\n",
       "        text-align: right;\n",
       "    }\n",
       "</style>\n",
       "<table border=\"1\" class=\"dataframe\">\n",
       "  <thead>\n",
       "    <tr style=\"text-align: right;\">\n",
       "      <th></th>\n",
       "      <th>name</th>\n",
       "      <th>url</th>\n",
       "    </tr>\n",
       "  </thead>\n",
       "  <tbody>\n",
       "    <tr>\n",
       "      <th>0</th>\n",
       "      <td>home</td>\n",
       "      <td>https://farmrpg.com/</td>\n",
       "    </tr>\n",
       "    <tr>\n",
       "      <th>1</th>\n",
       "      <td>farm</td>\n",
       "      <td>https://farmrpg.com/#!/xfarm.php?id=343807</td>\n",
       "    </tr>\n",
       "    <tr>\n",
       "      <th>2</th>\n",
       "      <td>explore</td>\n",
       "      <td>https://farmrpg.com/#!/explore.php</td>\n",
       "    </tr>\n",
       "    <tr>\n",
       "      <th>3</th>\n",
       "      <td>mount banon</td>\n",
       "      <td>https://farmrpg.com/#!/area.php?id=8</td>\n",
       "    </tr>\n",
       "    <tr>\n",
       "      <th>4</th>\n",
       "      <td>forest</td>\n",
       "      <td>https://farmrpg.com/#!/area.php?id=7</td>\n",
       "    </tr>\n",
       "    <tr>\n",
       "      <th>5</th>\n",
       "      <td>help</td>\n",
       "      <td>https://farmrpg.com/#!/quests.php</td>\n",
       "    </tr>\n",
       "    <tr>\n",
       "      <th>6</th>\n",
       "      <td>inventory</td>\n",
       "      <td>https://farmrpg.com/#!/inventory.php</td>\n",
       "    </tr>\n",
       "    <tr>\n",
       "      <th>7</th>\n",
       "      <td>login</td>\n",
       "      <td>https://farmrpg.com/#!/login.php</td>\n",
       "    </tr>\n",
       "    <tr>\n",
       "      <th>8</th>\n",
       "      <td>home</td>\n",
       "      <td>https://farmrpg.com/#!/index.php</td>\n",
       "    </tr>\n",
       "  </tbody>\n",
       "</table>\n",
       "</div>"
      ],
      "text/plain": [
       "          name                                         url\n",
       "0         home                        https://farmrpg.com/\n",
       "1         farm  https://farmrpg.com/#!/xfarm.php?id=343807\n",
       "2      explore          https://farmrpg.com/#!/explore.php\n",
       "3  mount banon        https://farmrpg.com/#!/area.php?id=8\n",
       "4       forest        https://farmrpg.com/#!/area.php?id=7\n",
       "5         help           https://farmrpg.com/#!/quests.php\n",
       "6    inventory        https://farmrpg.com/#!/inventory.php\n",
       "7        login            https://farmrpg.com/#!/login.php\n",
       "8         home            https://farmrpg.com/#!/index.php"
      ]
     },
     "execution_count": 273,
     "metadata": {},
     "output_type": "execute_result"
    }
   ],
   "source": [
    "def set_farm_url():\n",
    "    goto(\"home\")\n",
    "    \n",
    "    farm_id = driver.find_element(By.XPATH, \"//a[contains(@href, 'xfarm.php?id')]\").get_attribute(\"href\").split(\"id=\")[-1]\n",
    "    locations.loc[locations[\"name\"] == \"farm\",\"url\"] = f\"https://farmrpg.com/#!/xfarm.php?id={farm_id}\"\n",
    "    print(f\"Set Farm URL to {locations.loc[locations['name'] == 'farm','url'].iloc[0]}\")\n",
    "\n",
    "set_farm_url()\n",
    "locations\n",
    "    "
   ]
  },
  {
   "cell_type": "code",
   "execution_count": 275,
   "metadata": {},
   "outputs": [
    {
     "name": "stdout",
     "output_type": "stream",
     "text": [
      "https://farmrpg.com/#!/xfarm.php?id=343807\n"
     ]
    }
   ],
   "source": [
    "def harvest():\n",
    "    goto(\"farm\")\n",
    "    WebDriverWait(driver, 1).until(EC.presence_of_element_located((By.XPATH, \"//a[contains(text(), 'Harvest All')]\")))\n",
    "    time.sleep(0.01)\n",
    "    try:\n",
    "        driver.find_element(By.XPATH, '//a[contains(text(), \"Harvest All\")]').click()\n",
    "    except StaleElementReferenceException:\n",
    "        driver.refresh()\n",
    "        driver.find_element(By.XPATH, '//a[contains(text(), \"Harvest All\")]').click()\n",
    "\n",
    "harvest()"
   ]
  },
  {
   "cell_type": "code",
   "execution_count": 276,
   "metadata": {},
   "outputs": [
    {
     "name": "stdout",
     "output_type": "stream",
     "text": [
      "https://farmrpg.com/#!/xfarm.php?id=343807\n"
     ]
    },
    {
     "data": {
      "text/html": [
       "<div>\n",
       "<style scoped>\n",
       "    .dataframe tbody tr th:only-of-type {\n",
       "        vertical-align: middle;\n",
       "    }\n",
       "\n",
       "    .dataframe tbody tr th {\n",
       "        vertical-align: top;\n",
       "    }\n",
       "\n",
       "    .dataframe thead th {\n",
       "        text-align: right;\n",
       "    }\n",
       "</style>\n",
       "<table border=\"1\" class=\"dataframe\">\n",
       "  <thead>\n",
       "    <tr style=\"text-align: right;\">\n",
       "      <th></th>\n",
       "      <th>name</th>\n",
       "      <th>amount</th>\n",
       "    </tr>\n",
       "  </thead>\n",
       "  <tbody>\n",
       "    <tr>\n",
       "      <th>1</th>\n",
       "      <td>Cabbage Seeds</td>\n",
       "      <td>43</td>\n",
       "    </tr>\n",
       "    <tr>\n",
       "      <th>2</th>\n",
       "      <td>Carrot Seeds</td>\n",
       "      <td>508</td>\n",
       "    </tr>\n",
       "    <tr>\n",
       "      <th>3</th>\n",
       "      <td>Cucumber Seeds</td>\n",
       "      <td>341</td>\n",
       "    </tr>\n",
       "    <tr>\n",
       "      <th>4</th>\n",
       "      <td>Eggplant Seeds</td>\n",
       "      <td>70</td>\n",
       "    </tr>\n",
       "    <tr>\n",
       "      <th>5</th>\n",
       "      <td>Gold Carrot Seeds</td>\n",
       "      <td>5</td>\n",
       "    </tr>\n",
       "    <tr>\n",
       "      <th>6</th>\n",
       "      <td>Hops Seeds</td>\n",
       "      <td>150</td>\n",
       "    </tr>\n",
       "    <tr>\n",
       "      <th>7</th>\n",
       "      <td>Leek Seeds</td>\n",
       "      <td>341</td>\n",
       "    </tr>\n",
       "    <tr>\n",
       "      <th>8</th>\n",
       "      <td>Pea Seeds</td>\n",
       "      <td>174</td>\n",
       "    </tr>\n",
       "    <tr>\n",
       "      <th>9</th>\n",
       "      <td>Pepper Seeds</td>\n",
       "      <td>114</td>\n",
       "    </tr>\n",
       "    <tr>\n",
       "      <th>10</th>\n",
       "      <td>Pumpkin Seeds</td>\n",
       "      <td>3</td>\n",
       "    </tr>\n",
       "    <tr>\n",
       "      <th>11</th>\n",
       "      <td>Radish Seeds</td>\n",
       "      <td>128</td>\n",
       "    </tr>\n",
       "    <tr>\n",
       "      <th>12</th>\n",
       "      <td>Tomato Seeds</td>\n",
       "      <td>23</td>\n",
       "    </tr>\n",
       "    <tr>\n",
       "      <th>13</th>\n",
       "      <td>Watermelon Seeds</td>\n",
       "      <td>6</td>\n",
       "    </tr>\n",
       "    <tr>\n",
       "      <th>14</th>\n",
       "      <td>Wheat Seeds</td>\n",
       "      <td>32</td>\n",
       "    </tr>\n",
       "    <tr>\n",
       "      <th>15</th>\n",
       "      <td>Shovel</td>\n",
       "      <td>12</td>\n",
       "    </tr>\n",
       "  </tbody>\n",
       "</table>\n",
       "</div>"
      ],
      "text/plain": [
       "                 name amount\n",
       "1       Cabbage Seeds     43\n",
       "2        Carrot Seeds    508\n",
       "3      Cucumber Seeds    341\n",
       "4      Eggplant Seeds     70\n",
       "5   Gold Carrot Seeds      5\n",
       "6          Hops Seeds    150\n",
       "7          Leek Seeds    341\n",
       "8           Pea Seeds    174\n",
       "9        Pepper Seeds    114\n",
       "10      Pumpkin Seeds      3\n",
       "11       Radish Seeds    128\n",
       "12       Tomato Seeds     23\n",
       "13   Watermelon Seeds      6\n",
       "14        Wheat Seeds     32\n",
       "15             Shovel     12"
      ]
     },
     "execution_count": 276,
     "metadata": {},
     "output_type": "execute_result"
    }
   ],
   "source": [
    "def get_available_crops(crop_select=None):\n",
    "    goto(\"farm\")\n",
    "    \n",
    "    if crop_select is None:\n",
    "        WebDriverWait(driver, 1).until(EC.presence_of_element_located((By.XPATH, \"//select[@class='seedid inlineinputlg']\")))\n",
    "        crop_select = Select(driver.find_element(By.XPATH, '//select[@class=\"seedid inlineinputlg\"]'))\n",
    "\n",
    "    return pd.DataFrame([[o.get_attribute(\"data-name\"), o.get_attribute(\"data-amt\")] for o in crop_select.options], columns=[\"name\", \"amount\"]).dropna()\n",
    "\n",
    "get_available_crops()"
   ]
  },
  {
   "cell_type": "code",
   "execution_count": 277,
   "metadata": {},
   "outputs": [
    {
     "name": "stdout",
     "output_type": "stream",
     "text": [
      "https://farmrpg.com/#!/xfarm.php?id=343807\n",
      "https://farmrpg.com/#!/xfarm.php?id=343807\n",
      "Planted Carrot Seeds\n"
     ]
    }
   ],
   "source": [
    "def plant_crop(crop_name):\n",
    "    goto(\"farm\")\n",
    "    \n",
    "    WebDriverWait(driver, 1).until(EC.presence_of_element_located((By.XPATH, \"//select[@class='seedid inlineinputlg']\")))\n",
    "    crop_select = Select(driver.find_element(By.XPATH, '//select[@class=\"seedid inlineinputlg\"]'))\n",
    "\n",
    "    available_crops = get_available_crops(crop_select=crop_select)\n",
    "\n",
    "    crop_name = crop_name[0].upper() + crop_name[1:].lower()\n",
    "    if \"seeds\" in crop_name.lower():\n",
    "        crop_name = crop_name.replace(\"seeds\",\"\").replace(\"Seeds\",\"\").replace(\" \",\"\")\n",
    "    crop_name += \" Seeds\"\n",
    "\n",
    "\n",
    "    crop_info = available_crops[available_crops.name == crop_name]\n",
    "\n",
    "    if crop_info.empty:\n",
    "        print(f\"Could not find crop {crop_name} in available crops\")\n",
    "        # TODO: implement buying\n",
    "        return\n",
    "\n",
    "    crop_select.select_by_index(crop_info.index.values[0])\n",
    "\n",
    "    driver.find_element(By.XPATH, '//a[contains(text(), \"Plant All\")]').click()\n",
    "    print(f'Planted {crop_name}')\n",
    "    \n",
    "plant_crop(\"carrot\")"
   ]
  },
  {
   "cell_type": "code",
   "execution_count": 278,
   "metadata": {},
   "outputs": [
    {
     "name": "stdout",
     "output_type": "stream",
     "text": [
      "https://farmrpg.com/#!/xfarm.php?id=343807\n",
      "GOTO:  farm -> home\n",
      "Crops are still growing!\n"
     ]
    },
    {
     "data": {
      "text/plain": [
       "False"
      ]
     },
     "execution_count": 278,
     "metadata": {},
     "output_type": "execute_result"
    }
   ],
   "source": [
    "def is_harvest_available():\n",
    "    goto(\"home\")\n",
    "\n",
    "    WebDriverWait(driver, 1).until(EC.presence_of_element_located((By.XPATH, \"//a[contains(@href, 'xfarm.php?id')]//span[contains(@class,'ready ready')]\")))\n",
    "    message = driver.find_element(By.XPATH, \"//a[contains(@href, 'xfarm.php?id')]//span[contains(@class,'ready ready')]\").get_attribute(\"innerHTML\")\n",
    "\n",
    "    if message == \"\":\n",
    "        print(\"No Crops planted!\")\n",
    "        return False\n",
    "    elif \" Growing\" in message:\n",
    "        print(\"Crops are still growing!\")\n",
    "        return False\n",
    "    elif \" READY!\" in message:\n",
    "        print(message.replace('<span style=\"color:#30d611\">',\"\").replace(\"</span>\",\"\"))\n",
    "        return True\n",
    "\n",
    "is_harvest_available()\n",
    "    "
   ]
  },
  {
   "cell_type": "code",
   "execution_count": 291,
   "metadata": {},
   "outputs": [
    {
     "name": "stdout",
     "output_type": "stream",
     "text": [
      "https://farmrpg.com/#!/fish.php\n",
      "GOTO:  fish -> explore\n",
      "//div[@class=\"view view-main navbar-through\"]//a[@href='explore.php']\n"
     ]
    },
    {
     "data": {
      "text/plain": [
       "['Forest',\n",
       " 'Small Cave',\n",
       " 'Small Spring',\n",
       " 'Haunted House',\n",
       " 'Highland Hills',\n",
       " 'Cane Pole Ridge',\n",
       " 'Misty Forest',\n",
       " 'Black Rock Canyon',\n",
       " 'Mount Banon']"
      ]
     },
     "execution_count": 291,
     "metadata": {},
     "output_type": "execute_result"
    }
   ],
   "source": [
    "def get_explore_locations():\n",
    "    goto(\"explore\")\n",
    "\n",
    "    WebDriverWait(driver, 1).until(EC.presence_of_element_located((By.XPATH, \"//ul//a[contains(@href,'area')]//div[@class='item-title']\")))\n",
    "    locations = driver.find_elements(By.XPATH, \"//ul//a[contains(@href,'area')]//div[@class='item-title']\")\n",
    "    return [location.get_attribute(\"innerHTML\").split(\"<br>\")[0] for location in locations]\n",
    "\n",
    "get_explore_locations()"
   ]
  },
  {
   "cell_type": "code",
   "execution_count": 282,
   "metadata": {},
   "outputs": [
    {
     "name": "stdout",
     "output_type": "stream",
     "text": [
      "https://farmrpg.com/#!/explore.php\n"
     ]
    }
   ],
   "source": [
    "def explore(target_location=None, num=5, rate=10):\n",
    "    goto(\"explore\")\n",
    "        \n",
    "    WebDriverWait(driver, 1).until(EC.presence_of_element_located((By.XPATH, \"//ul//a[contains(@href,'area')]//div[@class='item-title']\")))\n",
    "    locations = driver.find_elements(By.XPATH, \"//ul//a[contains(@href,'area')]//div[@class='item-title']\")\n",
    "    \n",
    "    if target_location is None:\n",
    "        locations[-1].click()\n",
    "\n",
    "    WebDriverWait(driver, 1).until(EC.presence_of_element_located((By.XPATH, \"//div[@id='exploreconsole']\")))\n",
    "    tab = driver.find_element(By.XPATH, \"//div[@id='exploreconsole']\")\n",
    "\n",
    "    for i in range(num):\n",
    "        tab.click()\n",
    "        time.sleep(1/rate)\n",
    "\n",
    "explore_highest(num=100)"
   ]
  },
  {
   "cell_type": "code",
   "execution_count": 294,
   "metadata": {},
   "outputs": [
    {
     "name": "stdout",
     "output_type": "stream",
     "text": [
      "https://farmrpg.com/#!/fishing.php?id=8\n",
      "GOTO:  vast ocean -> fish\n",
      "//div[@class=\"view view-main navbar-through\"]//a[@href='fish.php']\n"
     ]
    },
    {
     "data": {
      "text/plain": [
       "['Farm Pond',\n",
       " 'Small Pond',\n",
       " 'Forest Pond',\n",
       " 'Lake Tempest',\n",
       " 'Small Island',\n",
       " 'Crystal River',\n",
       " 'Emerald Beach',\n",
       " 'Vast Ocean']"
      ]
     },
     "execution_count": 294,
     "metadata": {},
     "output_type": "execute_result"
    }
   ],
   "source": [
    "def get_fish_locations(target_location=None):\n",
    "    goto(\"fish\")\n",
    "        \n",
    "    WebDriverWait(driver, 1).until(EC.presence_of_element_located((By.XPATH, \"//ul//a[contains(@href,'fishing.php')]//div[@class='item-title']\")))\n",
    "    locations = driver.find_elements(By.XPATH, \"//ul//a[contains(@href,'fishing.php')]//div[@class='item-title']\")\n",
    "    return [location.get_attribute(\"innerHTML\").split(\"<br>\")[0] for location in locations]\n",
    "\n",
    "get_fish_locations()"
   ]
  },
  {
   "cell_type": "code",
   "execution_count": 319,
   "metadata": {},
   "outputs": [
    {
     "name": "stdout",
     "output_type": "stream",
     "text": [
      "https://farmrpg.com/#!/fishing.php?id=8\n",
      "GOTO:  vast ocean -> fish\n",
      "//div[@class=\"view view-main navbar-through\"]//a[@href='fish.php']\n",
      "[<selenium.webdriver.remote.webelement.WebElement (session=\"6aa26f90a6610b94ac20c57a65c4a987\", element=\"85B6219981F6308D9A2566ECC172FCC0_element_921\")>, <selenium.webdriver.remote.webelement.WebElement (session=\"6aa26f90a6610b94ac20c57a65c4a987\", element=\"85B6219981F6308D9A2566ECC172FCC0_element_922\")>, <selenium.webdriver.remote.webelement.WebElement (session=\"6aa26f90a6610b94ac20c57a65c4a987\", element=\"85B6219981F6308D9A2566ECC172FCC0_element_923\")>, <selenium.webdriver.remote.webelement.WebElement (session=\"6aa26f90a6610b94ac20c57a65c4a987\", element=\"85B6219981F6308D9A2566ECC172FCC0_element_924\")>, <selenium.webdriver.remote.webelement.WebElement (session=\"6aa26f90a6610b94ac20c57a65c4a987\", element=\"85B6219981F6308D9A2566ECC172FCC0_element_925\")>, <selenium.webdriver.remote.webelement.WebElement (session=\"6aa26f90a6610b94ac20c57a65c4a987\", element=\"85B6219981F6308D9A2566ECC172FCC0_element_926\")>, <selenium.webdriver.remote.webelement.WebElement (session=\"6aa26f90a6610b94ac20c57a65c4a987\", element=\"85B6219981F6308D9A2566ECC172FCC0_element_927\")>, <selenium.webdriver.remote.webelement.WebElement (session=\"6aa26f90a6610b94ac20c57a65c4a987\", element=\"85B6219981F6308D9A2566ECC172FCC0_element_928\")>, <selenium.webdriver.remote.webelement.WebElement (session=\"6aa26f90a6610b94ac20c57a65c4a987\", element=\"85B6219981F6308D9A2566ECC172FCC0_element_929\")>, <selenium.webdriver.remote.webelement.WebElement (session=\"6aa26f90a6610b94ac20c57a65c4a987\", element=\"85B6219981F6308D9A2566ECC172FCC0_element_930\")>, <selenium.webdriver.remote.webelement.WebElement (session=\"6aa26f90a6610b94ac20c57a65c4a987\", element=\"85B6219981F6308D9A2566ECC172FCC0_element_931\")>, <selenium.webdriver.remote.webelement.WebElement (session=\"6aa26f90a6610b94ac20c57a65c4a987\", element=\"85B6219981F6308D9A2566ECC172FCC0_element_932\")>]\n",
      "<img src=\"/img/items/fish.png\" class=\"fish f34 catch\" style=\"display: inline; opacity: 0.847956;\">\n",
      "catchable: <selenium.webdriver.remote.webelement.WebElement (session=\"6aa26f90a6610b94ac20c57a65c4a987\", element=\"85B6219981F6308D9A2566ECC172FCC0_element_932\")>\n",
      "<img src=\"/img/items/fish.png\" class=\"fish f34 catch\" style=\"display: inline; opacity: 0.922164;\">\n"
     ]
    }
   ],
   "source": [
    "def fish_manually(target_location=None, num=5):\n",
    "    goto(\"fish\")\n",
    "        \n",
    "    WebDriverWait(driver, 1).until(EC.presence_of_element_located((By.XPATH, \"//ul//a[contains(@href,'fishing.php')]//div[@class='item-title']\")))\n",
    "    locations = driver.find_elements(By.XPATH, \"//ul//a[contains(@href,'fishing.php')]//div[@class='item-title']\")\n",
    "    \n",
    "    if target_location is None:\n",
    "        locations[-1].click()\n",
    "\n",
    "    WebDriverWait(driver, 1).until(EC.presence_of_element_located((By.XPATH, \"//div[@id='fishinwater']\")))\n",
    "\n",
    "    fish_divs = driver.find_elements(By.XPATH, \"//img[@src='/img/items/fish.png']\")\n",
    "    print(fish_divs)\n",
    "\n",
    "    def fish_coming_up(driver):\n",
    "        for fish in fish_divs:\n",
    "            if \"catch\" in fish.get_attribute(\"class\"):\n",
    "                print(fish.get_attribute(\"outerHTML\"))\n",
    "                return fish\n",
    "    \n",
    "    time.sleep(1)\n",
    "    for i in range(num):\n",
    "        catchable = WebDriverWait(driver, 1).until(fish_coming_up)\n",
    "        ActionChains(driver).move_to_element(catchable.find_element(By.XPATH, '..')).click().perform()\n",
    "\n",
    "        WebDriverWait(driver, 1).until(EC.presence_of_element_located((By.XPATH, \"//div[@class='fishcaught finalcatch1b']\")))\n",
    "        ActionChains(driver).move_to_element(driver.find_element(By.XPATH, \"//div[@class='fishcaught finalcatch1b']\")).click().perform()\n",
    "        return\n",
    "\n",
    "fish_manually()"
   ]
  },
  {
   "cell_type": "code",
   "execution_count": null,
   "metadata": {},
   "outputs": [
    {
     "name": "stdout",
     "output_type": "stream",
     "text": [
      "https://farmrpg.com/#!/xfarm.php?id=343807\n",
      "https://farmrpg.com/#!/xfarm.php?id=343807\n",
      "https://farmrpg.com/#!/xfarm.php?id=343807\n",
      "Planted Carrot Seeds\n",
      "https://farmrpg.com/#!/xfarm.php?id=343807\n"
     ]
    },
    {
     "ename": "StaleElementReferenceException",
     "evalue": "Message: stale element reference: stale element not found\n  (Session info: chrome=118.0.5993.118); For documentation on this error, please visit: https://www.selenium.dev/documentation/webdriver/troubleshooting/errors#stale-element-reference-exception\nStacktrace:\n\tGetHandleVerifier [0x00D34DE3+43907]\n\t(No symbol) [0x00CC0741]\n\t(No symbol) [0x00BB33ED]\n\t(No symbol) [0x00BB6F6D]\n\t(No symbol) [0x00BB89D9]\n\t(No symbol) [0x00C15DEB]\n\t(No symbol) [0x00C02B5C]\n\t(No symbol) [0x00C155CA]\n\t(No symbol) [0x00C02956]\n\t(No symbol) [0x00BDE17E]\n\t(No symbol) [0x00BDF32D]\n\tGetHandleVerifier [0x00FE5AF9+2865305]\n\tGetHandleVerifier [0x0102E78B+3163435]\n\tGetHandleVerifier [0x01028441+3138017]\n\tGetHandleVerifier [0x00DBE0F0+605840]\n\t(No symbol) [0x00CCA64C]\n\t(No symbol) [0x00CC6638]\n\t(No symbol) [0x00CC675F]\n\t(No symbol) [0x00CB8DB7]\n\tBaseThreadInitThunk [0x761BFCC9+25]\n\tRtlGetAppContainerNamedObjectPath [0x77D37C6E+286]\n\tRtlGetAppContainerNamedObjectPath [0x77D37C3E+238]\n",
     "output_type": "error",
     "traceback": [
      "\u001b[1;31m---------------------------------------------------------------------------\u001b[0m",
      "\u001b[1;31mStaleElementReferenceException\u001b[0m            Traceback (most recent call last)",
      "\u001b[1;32mf:\\python\\git\\farmrpg-automate\\main.ipynb Cell 21\u001b[0m line \u001b[0;36m4\n\u001b[0;32m      <a href='vscode-notebook-cell:/f%3A/python/git/farmrpg-automate/main.ipynb#X40sZmlsZQ%3D%3D?line=1'>2</a>\u001b[0m harvest()\n\u001b[0;32m      <a href='vscode-notebook-cell:/f%3A/python/git/farmrpg-automate/main.ipynb#X40sZmlsZQ%3D%3D?line=2'>3</a>\u001b[0m plant_crop(\u001b[39m\"\u001b[39m\u001b[39mcarrot\u001b[39m\u001b[39m\"\u001b[39m)\n\u001b[1;32m----> <a href='vscode-notebook-cell:/f%3A/python/git/farmrpg-automate/main.ipynb#X40sZmlsZQ%3D%3D?line=3'>4</a>\u001b[0m ac \u001b[39m=\u001b[39m get_available_crops()\n\u001b[0;32m      <a href='vscode-notebook-cell:/f%3A/python/git/farmrpg-automate/main.ipynb#X40sZmlsZQ%3D%3D?line=4'>5</a>\u001b[0m \u001b[39mif\u001b[39;00m ac[ac[\u001b[39m\"\u001b[39m\u001b[39mname\u001b[39m\u001b[39m\"\u001b[39m] \u001b[39m==\u001b[39m \u001b[39m\"\u001b[39m\u001b[39mCarrot Seeds\u001b[39m\u001b[39m\"\u001b[39m]\u001b[39m.\u001b[39miloc[\u001b[39m0\u001b[39m,\u001b[39m1\u001b[39m] \u001b[39m<\u001b[39m \u001b[39m100\u001b[39m:\n\u001b[0;32m      <a href='vscode-notebook-cell:/f%3A/python/git/farmrpg-automate/main.ipynb#X40sZmlsZQ%3D%3D?line=5'>6</a>\u001b[0m     \u001b[39mpass\u001b[39;00m\n",
      "\u001b[1;32mf:\\python\\git\\farmrpg-automate\\main.ipynb Cell 21\u001b[0m line \u001b[0;36m8\n\u001b[0;32m      <a href='vscode-notebook-cell:/f%3A/python/git/farmrpg-automate/main.ipynb#X40sZmlsZQ%3D%3D?line=4'>5</a>\u001b[0m     WebDriverWait(driver, \u001b[39m1\u001b[39m)\u001b[39m.\u001b[39muntil(EC\u001b[39m.\u001b[39mpresence_of_element_located((By\u001b[39m.\u001b[39mXPATH, \u001b[39m\"\u001b[39m\u001b[39m//select[@class=\u001b[39m\u001b[39m'\u001b[39m\u001b[39mseedid inlineinputlg\u001b[39m\u001b[39m'\u001b[39m\u001b[39m]\u001b[39m\u001b[39m\"\u001b[39m)))\n\u001b[0;32m      <a href='vscode-notebook-cell:/f%3A/python/git/farmrpg-automate/main.ipynb#X40sZmlsZQ%3D%3D?line=5'>6</a>\u001b[0m     crop_select \u001b[39m=\u001b[39m Select(driver\u001b[39m.\u001b[39mfind_element(By\u001b[39m.\u001b[39mXPATH, \u001b[39m'\u001b[39m\u001b[39m//select[@class=\u001b[39m\u001b[39m\"\u001b[39m\u001b[39mseedid inlineinputlg\u001b[39m\u001b[39m\"\u001b[39m\u001b[39m]\u001b[39m\u001b[39m'\u001b[39m))\n\u001b[1;32m----> <a href='vscode-notebook-cell:/f%3A/python/git/farmrpg-automate/main.ipynb#X40sZmlsZQ%3D%3D?line=7'>8</a>\u001b[0m \u001b[39mreturn\u001b[39;00m pd\u001b[39m.\u001b[39mDataFrame([[o\u001b[39m.\u001b[39mget_attribute(\u001b[39m\"\u001b[39m\u001b[39mdata-name\u001b[39m\u001b[39m\"\u001b[39m), o\u001b[39m.\u001b[39;49mget_attribute(\u001b[39m\"\u001b[39;49m\u001b[39mdata-amt\u001b[39;49m\u001b[39m\"\u001b[39;49m)] \u001b[39mfor\u001b[39;00m o \u001b[39min\u001b[39;00m crop_select\u001b[39m.\u001b[39moptions], columns\u001b[39m=\u001b[39m[\u001b[39m\"\u001b[39m\u001b[39mname\u001b[39m\u001b[39m\"\u001b[39m, \u001b[39m\"\u001b[39m\u001b[39mamount\u001b[39m\u001b[39m\"\u001b[39m])\u001b[39m.\u001b[39mdropna()\n",
      "File \u001b[1;32mc:\\Users\\luisb\\AppData\\Local\\Programs\\Python\\Python312\\Lib\\site-packages\\selenium\\webdriver\\remote\\webelement.py:177\u001b[0m, in \u001b[0;36mWebElement.get_attribute\u001b[1;34m(self, name)\u001b[0m\n\u001b[0;32m    175\u001b[0m \u001b[39mif\u001b[39;00m getAttribute_js \u001b[39mis\u001b[39;00m \u001b[39mNone\u001b[39;00m:\n\u001b[0;32m    176\u001b[0m     _load_js()\n\u001b[1;32m--> 177\u001b[0m attribute_value \u001b[39m=\u001b[39m \u001b[39mself\u001b[39;49m\u001b[39m.\u001b[39;49mparent\u001b[39m.\u001b[39;49mexecute_script(\n\u001b[0;32m    178\u001b[0m     \u001b[39mf\u001b[39;49m\u001b[39m\"\u001b[39;49m\u001b[39m/* getAttribute */return (\u001b[39;49m\u001b[39m{\u001b[39;49;00mgetAttribute_js\u001b[39m}\u001b[39;49;00m\u001b[39m).apply(null, arguments);\u001b[39;49m\u001b[39m\"\u001b[39;49m, \u001b[39mself\u001b[39;49m, name\n\u001b[0;32m    179\u001b[0m )\n\u001b[0;32m    180\u001b[0m \u001b[39mreturn\u001b[39;00m attribute_value\n",
      "File \u001b[1;32mc:\\Users\\luisb\\AppData\\Local\\Programs\\Python\\Python312\\Lib\\site-packages\\selenium\\webdriver\\remote\\webdriver.py:406\u001b[0m, in \u001b[0;36mWebDriver.execute_script\u001b[1;34m(self, script, *args)\u001b[0m\n\u001b[0;32m    403\u001b[0m converted_args \u001b[39m=\u001b[39m \u001b[39mlist\u001b[39m(args)\n\u001b[0;32m    404\u001b[0m command \u001b[39m=\u001b[39m Command\u001b[39m.\u001b[39mW3C_EXECUTE_SCRIPT\n\u001b[1;32m--> 406\u001b[0m \u001b[39mreturn\u001b[39;00m \u001b[39mself\u001b[39;49m\u001b[39m.\u001b[39;49mexecute(command, {\u001b[39m\"\u001b[39;49m\u001b[39mscript\u001b[39;49m\u001b[39m\"\u001b[39;49m: script, \u001b[39m\"\u001b[39;49m\u001b[39margs\u001b[39;49m\u001b[39m\"\u001b[39;49m: converted_args})[\u001b[39m\"\u001b[39m\u001b[39mvalue\u001b[39m\u001b[39m\"\u001b[39m]\n",
      "File \u001b[1;32mc:\\Users\\luisb\\AppData\\Local\\Programs\\Python\\Python312\\Lib\\site-packages\\selenium\\webdriver\\remote\\webdriver.py:346\u001b[0m, in \u001b[0;36mWebDriver.execute\u001b[1;34m(self, driver_command, params)\u001b[0m\n\u001b[0;32m    344\u001b[0m response \u001b[39m=\u001b[39m \u001b[39mself\u001b[39m\u001b[39m.\u001b[39mcommand_executor\u001b[39m.\u001b[39mexecute(driver_command, params)\n\u001b[0;32m    345\u001b[0m \u001b[39mif\u001b[39;00m response:\n\u001b[1;32m--> 346\u001b[0m     \u001b[39mself\u001b[39;49m\u001b[39m.\u001b[39;49merror_handler\u001b[39m.\u001b[39;49mcheck_response(response)\n\u001b[0;32m    347\u001b[0m     response[\u001b[39m\"\u001b[39m\u001b[39mvalue\u001b[39m\u001b[39m\"\u001b[39m] \u001b[39m=\u001b[39m \u001b[39mself\u001b[39m\u001b[39m.\u001b[39m_unwrap_value(response\u001b[39m.\u001b[39mget(\u001b[39m\"\u001b[39m\u001b[39mvalue\u001b[39m\u001b[39m\"\u001b[39m, \u001b[39mNone\u001b[39;00m))\n\u001b[0;32m    348\u001b[0m     \u001b[39mreturn\u001b[39;00m response\n",
      "File \u001b[1;32mc:\\Users\\luisb\\AppData\\Local\\Programs\\Python\\Python312\\Lib\\site-packages\\selenium\\webdriver\\remote\\errorhandler.py:229\u001b[0m, in \u001b[0;36mErrorHandler.check_response\u001b[1;34m(self, response)\u001b[0m\n\u001b[0;32m    227\u001b[0m         alert_text \u001b[39m=\u001b[39m value[\u001b[39m\"\u001b[39m\u001b[39malert\u001b[39m\u001b[39m\"\u001b[39m]\u001b[39m.\u001b[39mget(\u001b[39m\"\u001b[39m\u001b[39mtext\u001b[39m\u001b[39m\"\u001b[39m)\n\u001b[0;32m    228\u001b[0m     \u001b[39mraise\u001b[39;00m exception_class(message, screen, stacktrace, alert_text)  \u001b[39m# type: ignore[call-arg]  # mypy is not smart enough here\u001b[39;00m\n\u001b[1;32m--> 229\u001b[0m \u001b[39mraise\u001b[39;00m exception_class(message, screen, stacktrace)\n",
      "\u001b[1;31mStaleElementReferenceException\u001b[0m: Message: stale element reference: stale element not found\n  (Session info: chrome=118.0.5993.118); For documentation on this error, please visit: https://www.selenium.dev/documentation/webdriver/troubleshooting/errors#stale-element-reference-exception\nStacktrace:\n\tGetHandleVerifier [0x00D34DE3+43907]\n\t(No symbol) [0x00CC0741]\n\t(No symbol) [0x00BB33ED]\n\t(No symbol) [0x00BB6F6D]\n\t(No symbol) [0x00BB89D9]\n\t(No symbol) [0x00C15DEB]\n\t(No symbol) [0x00C02B5C]\n\t(No symbol) [0x00C155CA]\n\t(No symbol) [0x00C02956]\n\t(No symbol) [0x00BDE17E]\n\t(No symbol) [0x00BDF32D]\n\tGetHandleVerifier [0x00FE5AF9+2865305]\n\tGetHandleVerifier [0x0102E78B+3163435]\n\tGetHandleVerifier [0x01028441+3138017]\n\tGetHandleVerifier [0x00DBE0F0+605840]\n\t(No symbol) [0x00CCA64C]\n\t(No symbol) [0x00CC6638]\n\t(No symbol) [0x00CC675F]\n\t(No symbol) [0x00CB8DB7]\n\tBaseThreadInitThunk [0x761BFCC9+25]\n\tRtlGetAppContainerNamedObjectPath [0x77D37C6E+286]\n\tRtlGetAppContainerNamedObjectPath [0x77D37C3E+238]\n"
     ]
    }
   ],
   "source": [
    "while True:\n",
    "    harvest()\n",
    "    plant_crop(\"carrot\")\n",
    "    ac = get_available_crops()\n",
    "    if ac[ac[\"name\"] == \"Carrot Seeds\"].iloc[0,1] < 100:\n",
    "        pass\n",
    "        # buy seeds\n",
    "    time.sleep(121)\n"
   ]
  }
 ],
 "metadata": {
  "kernelspec": {
   "display_name": "Python 3",
   "language": "python",
   "name": "python3"
  },
  "language_info": {
   "codemirror_mode": {
    "name": "ipython",
    "version": 3
   },
   "file_extension": ".py",
   "mimetype": "text/x-python",
   "name": "python",
   "nbconvert_exporter": "python",
   "pygments_lexer": "ipython3",
   "version": "3.12.0"
  }
 },
 "nbformat": 4,
 "nbformat_minor": 2
}
