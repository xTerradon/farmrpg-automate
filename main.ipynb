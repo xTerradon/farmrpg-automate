{
 "cells": [
  {
   "cell_type": "code",
   "execution_count": 39,
   "metadata": {},
   "outputs": [],
   "source": [
    "import os\n",
    "import time\n",
    "\n",
    "import numpy as np\n",
    "import pandas as pd\n",
    "\n",
    "from selenium import webdriver\n",
    "from selenium.webdriver.common.action_chains import ActionChains\n",
    "from selenium.webdriver.support.ui import WebDriverWait, Select\n",
    "from selenium.webdriver.support import expected_conditions as EC\n",
    "from selenium.webdriver.common.by import By\n",
    "from selenium.webdriver.chrome.service import Service as ChromeService\n",
    "\n",
    "from webdriver_manager.chrome import ChromeDriverManager\n"
   ]
  },
  {
   "cell_type": "code",
   "execution_count": 40,
   "metadata": {},
   "outputs": [],
   "source": [
    "USERNAME = \"amelia99\"\n",
    "PASSWORD = os.environ.get('password') \n",
    "if PASSWORD is None:\n",
    "    PASSWORD = input(\"Please enter your password: \")"
   ]
  },
  {
   "cell_type": "code",
   "execution_count": 41,
   "metadata": {},
   "outputs": [],
   "source": [
    "driver = webdriver.Chrome(service=ChromeService(ChromeDriverManager().install()))"
   ]
  },
  {
   "cell_type": "code",
   "execution_count": 51,
   "metadata": {},
   "outputs": [],
   "source": [
    "def get_current_title():\n",
    "    try:\n",
    "        return driver.find_element(By.XPATH, \"/html/body/div[3]/div[3]/div[1]/div[2]/div[2]\").text\n",
    "    except:\n",
    "        return \"\""
   ]
  },
  {
   "cell_type": "code",
   "execution_count": 52,
   "metadata": {},
   "outputs": [],
   "source": [
    "def login_user(username, password):\n",
    "    if is_logged_in():\n",
    "        return\n",
    "\n",
    "    login_div = driver.find_element(By.XPATH, \"//div[contains(text(), 'Login')]\")\n",
    "    login_div.click()\n",
    "\n",
    "    time.sleep(1)\n",
    "\n",
    "    username_input = driver.find_element(By.XPATH, \"//input[@name='username']\")\n",
    "    username_input.send_keys(username)\n",
    "\n",
    "    password_input = driver.find_element(By.XPATH, \"//input[@name='password']\")\n",
    "    password_input.send_keys(password)\n",
    "\n",
    "    login_button = driver.find_element(By.XPATH, \"//input[@value='Login']\")\n",
    "    login_button.click()\n",
    "\n",
    "    time.sleep(1)\n",
    "\n",
    "    if is_logged_in():\n",
    "        print(f\"Successfully logged in as {username}\")\n",
    "    else:\n",
    "        login_user(username, password)\n"
   ]
  },
  {
   "cell_type": "code",
   "execution_count": 53,
   "metadata": {},
   "outputs": [],
   "source": [
    "def goto(url):\n",
    "    if driver.current_url == url:\n",
    "        return\n",
    "    driver.get(url)\n",
    "    time.sleep(0.1)"
   ]
  },
  {
   "cell_type": "code",
   "execution_count": 54,
   "metadata": {},
   "outputs": [],
   "source": [
    "def is_logged_in():\n",
    "    goto(\"https://farmrpg.com\")\n",
    "\n",
    "    if driver.find_element(By.XPATH, \"//div[@id='logged_in_username']\").get_attribute(\"innerHTML\") == USERNAME:\n",
    "        return True\n",
    "    return False"
   ]
  },
  {
   "cell_type": "code",
   "execution_count": 55,
   "metadata": {},
   "outputs": [],
   "source": [
    "def get_farming_link():\n",
    "    goto(\"https://farmrpg.com/index.php\")\n",
    "    \n",
    "    login_user(USERNAME, PASSWORD)\n",
    "\n",
    "    return driver.find_element(By.XPATH, \"//a[contains(@href, 'xfarm.php?id')]\").get_attribute(\"href\")\n",
    "    "
   ]
  },
  {
   "cell_type": "code",
   "execution_count": 56,
   "metadata": {},
   "outputs": [],
   "source": [
    "def harvest_everything():\n",
    "    goto(FARMING_LINK)\n",
    "    driver.find_element(By.XPATH, '//a[@class=\"button btnorange harvestallbtn\"][contains(text(), \"Harvest All Crops\")]').click()"
   ]
  },
  {
   "cell_type": "code",
   "execution_count": 130,
   "metadata": {},
   "outputs": [],
   "source": [
    "def plant_crop(crop_name):\n",
    "    goto(FARMING_LINK)\n",
    "    crop_select = Select(driver.find_element(By.XPATH, '//select[@class=\"seedid inlineinputlg\"]'))\n",
    "\n",
    "    available_crops = get_available_crops(crop_select=crop_select)\n",
    "\n",
    "    crop_name = crop_name[0].upper() + crop_name[1:].lower()\n",
    "    if \"seeds\" in crop_name.lower():\n",
    "        crop_name = crop_name.replace(\"seeds\",\"\").replace(\"Seeds\",\"\").replace(\" \",\"\")\n",
    "    crop_name += \" Seeds\"\n",
    "\n",
    "\n",
    "    crop_info = available_crops[available_crops.name == crop_name]\n",
    "\n",
    "    if crop_info.empty:\n",
    "        print(f\"Could not find crop {crop_name} in available crops\")\n",
    "        # TODO: implement buying\n",
    "        return\n",
    "\n",
    "    crop_select.select_by_index(crop_info.index.values[0])\n",
    "\n",
    "    driver.find_element(By.XPATH, '//a[contains(text(), \"Plant All\")]').click()\n",
    "    print(f'Planted {crop_info[\"amount\"].values[0]} {crop_name}')\n",
    "    \n"
   ]
  },
  {
   "cell_type": "code",
   "execution_count": 131,
   "metadata": {},
   "outputs": [],
   "source": [
    "def get_available_crops(crop_select=None):\n",
    "    goto(FARMING_LINK)\n",
    "    if crop_select is None:\n",
    "        crop_select = Select(driver.find_element(By.XPATH, '//select[@class=\"seedid inlineinputlg\"]'))\n",
    "\n",
    "    return pd.DataFrame([[o.get_attribute(\"data-name\"), o.get_attribute(\"data-amt\")] for o in crop_select.options], columns=[\"name\", \"amount\"]).dropna()\n"
   ]
  },
  {
   "cell_type": "code",
   "execution_count": 92,
   "metadata": {},
   "outputs": [
    {
     "data": {
      "text/plain": [
       "'https://farmrpg.com/xfarm.php?id=343807'"
      ]
     },
     "execution_count": 92,
     "metadata": {},
     "output_type": "execute_result"
    }
   ],
   "source": [
    "login_user(USERNAME, PASSWORD)\n",
    "FARMING_LINK = get_farm_link()\n",
    "FARMING_LINK"
   ]
  },
  {
   "cell_type": "code",
   "execution_count": 132,
   "metadata": {},
   "outputs": [
    {
     "name": "stdout",
     "output_type": "stream",
     "text": [
      "Planted 412 Carrot Seeds\n"
     ]
    }
   ],
   "source": [
    "plant_crop(\"Carrot\")"
   ]
  }
 ],
 "metadata": {
  "kernelspec": {
   "display_name": "Python 3",
   "language": "python",
   "name": "python3"
  },
  "language_info": {
   "codemirror_mode": {
    "name": "ipython",
    "version": 3
   },
   "file_extension": ".py",
   "mimetype": "text/x-python",
   "name": "python",
   "nbconvert_exporter": "python",
   "pygments_lexer": "ipython3",
   "version": "3.11.3"
  }
 },
 "nbformat": 4,
 "nbformat_minor": 2
}
