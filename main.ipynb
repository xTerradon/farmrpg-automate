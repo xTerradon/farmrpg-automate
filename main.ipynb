{
 "cells": [
  {
   "cell_type": "markdown",
   "metadata": {},
   "source": [
    "# Prefetching"
   ]
  },
  {
   "cell_type": "code",
   "execution_count": null,
   "metadata": {},
   "outputs": [],
   "source": [
    "!python -m pip install --upgrade pip"
   ]
  },
  {
   "cell_type": "code",
   "execution_count": null,
   "metadata": {},
   "outputs": [],
   "source": [
    "import os\n",
    "import time\n",
    "import codecs\n",
    "\n",
    "import numpy as np\n",
    "import pandas as pd\n",
    "\n",
    "from selenium import webdriver\n",
    "from selenium.webdriver.common.action_chains import ActionChains\n",
    "from selenium.webdriver.support.ui import WebDriverWait, Select\n",
    "from selenium.webdriver.support import expected_conditions as EC\n",
    "from selenium.webdriver.common.by import By\n",
    "from selenium.webdriver.common.keys import Keys\n",
    "from selenium.webdriver.chrome.service import Service as ChromeService\n",
    "\n",
    "from webdriver_manager.chrome import ChromeDriverManager\n",
    "from threading import Thread\n"
   ]
  },
  {
   "cell_type": "code",
   "execution_count": null,
   "metadata": {},
   "outputs": [],
   "source": [
    "USERNAME = \"amelia99\"\n",
    "PASSWORD = os.environ.get('password') \n",
    "if PASSWORD is None:\n",
    "    PASSWORD = input(\"Please enter your password: \")"
   ]
  },
  {
   "cell_type": "code",
   "execution_count": null,
   "metadata": {},
   "outputs": [],
   "source": [
    "location_urls = pd.read_csv(\"location_urls.csv\")\n",
    "location_urls"
   ]
  },
  {
   "cell_type": "code",
   "execution_count": null,
   "metadata": {},
   "outputs": [],
   "source": [
    "location_xpaths = pd.read_csv(\"location_xpaths.csv\", delimiter=\";\")\n",
    "location_xpaths"
   ]
  },
  {
   "cell_type": "code",
   "execution_count": null,
   "metadata": {},
   "outputs": [],
   "source": [
    "driver = webdriver.Chrome(service=ChromeService(ChromeDriverManager().install()))\n",
    "MAIN_URL = \"https://farmrpg.com/\"\n",
    "driver.get(MAIN_URL)"
   ]
  },
  {
   "cell_type": "markdown",
   "metadata": {},
   "source": [
    "# Helper Functions"
   ]
  },
  {
   "cell_type": "code",
   "execution_count": null,
   "metadata": {},
   "outputs": [],
   "source": [
    "def get_current_location():\n",
    "    # print(driver.current_url)\n",
    "\n",
    "    try:\n",
    "        return location_urls[location_urls[\"url\"] == driver.current_url].iloc[0,0]\n",
    "    except:\n",
    "        print(f\"Location {driver.current_url} not found in locations.csv\")\n",
    "        return None"
   ]
  },
  {
   "cell_type": "code",
   "execution_count": null,
   "metadata": {},
   "outputs": [],
   "source": [
    "def is_refresh_button_available():\n",
    "    return bool(len(driver.find_elements(By.XPATH, \"//i[@aria-label='Refresh Game']\")))"
   ]
  },
  {
   "cell_type": "code",
   "execution_count": null,
   "metadata": {},
   "outputs": [],
   "source": [
    "def goto(target_location):\n",
    "    target_location = target_location.lower()\n",
    "    current_location = get_current_location()\n",
    "    if current_location != target_location:\n",
    "        print(f\"GOTO:  {current_location} -> {target_location}\")\n",
    "        \n",
    "        driver.get(MAIN_URL)\n",
    "        \n",
    "        if target_location == \"home\":\n",
    "            return\n",
    "        elif target_location in location_xpaths[\"name\"].values.tolist():\n",
    "            xpath =  location_xpaths.loc[location_xpaths[\"name\"] == target_location,\"xpath\"].iloc[0]\n",
    "            # print(xpath)\n",
    "            WebDriverWait(driver, 1).until(EC.presence_of_element_located((By.XPATH, xpath)))\n",
    "            driver.find_element(By.XPATH, xpath).click()\n",
    "            time.sleep(0.1)\n",
    "        else:\n",
    "            print(\"Sorry, this Location has not been added yet!\")"
   ]
  },
  {
   "cell_type": "code",
   "execution_count": null,
   "metadata": {},
   "outputs": [],
   "source": [
    "def is_logged_in():\n",
    "    goto(\"home\")\n",
    "\n",
    "    if driver.find_element(By.XPATH, \"//div[@id='logged_in_username']\").get_attribute(\"innerHTML\") == USERNAME:\n",
    "        return True\n",
    "    return False"
   ]
  },
  {
   "cell_type": "code",
   "execution_count": null,
   "metadata": {},
   "outputs": [],
   "source": [
    "def login_user(username, password):\n",
    "    if is_logged_in():\n",
    "        print(f\"Already logged in as {username}\")\n",
    "        return\n",
    "\n",
    "    login_div = driver.find_element(By.XPATH, \"//div[contains(text(), 'Login')]\")\n",
    "    login_div.click()\n",
    "\n",
    "    time.sleep(1)\n",
    "\n",
    "    username_input = driver.find_element(By.XPATH, \"//input[@name='username']\")\n",
    "    username_input.send_keys(username)\n",
    "\n",
    "    password_input = driver.find_element(By.XPATH, \"//input[@name='password']\")\n",
    "    password_input.send_keys(password)\n",
    "\n",
    "    login_button = driver.find_element(By.XPATH, \"//input[@value='Login']\")\n",
    "    login_button.click()\n",
    "\n",
    "    time.sleep(1)\n",
    "\n",
    "    if is_logged_in():\n",
    "        print(f\"Successfully logged in as {username}\")\n",
    "    else:\n",
    "        login_user(username, password)\n",
    "\n",
    "login_user(USERNAME, PASSWORD)\n"
   ]
  },
  {
   "cell_type": "code",
   "execution_count": null,
   "metadata": {},
   "outputs": [],
   "source": [
    "def set_farm_url():\n",
    "    goto(\"home\")\n",
    "    \n",
    "    farm_id = driver.find_element(By.XPATH, \"//a[contains(@href, 'xfarm.php?id')]\").get_attribute(\"href\").split(\"id=\")[-1]\n",
    "    location_urls.loc[location_urls[\"name\"] == \"farm\",\"url\"] = f\"https://farmrpg.com/#!/xfarm.php?id={farm_id}\"\n",
    "    print(f\"Set Farm URL to {location_urls.loc[location_urls['name'] == 'farm','url'].iloc[0]}\")\n",
    "\n",
    "set_farm_url()\n",
    "location_urls\n",
    "    "
   ]
  },
  {
   "cell_type": "code",
   "execution_count": null,
   "metadata": {},
   "outputs": [],
   "source": [
    "def go_to_fish_location(target_location=None):\n",
    "    goto(\"fish\")\n",
    "        \n",
    "    WebDriverWait(driver, 1).until(EC.presence_of_element_located((By.XPATH, \"//ul//a[contains(@href,'fishing')]//div[@class='item-title']\")))\n",
    "    locations = driver.find_elements(By.XPATH, \"//ul//a[contains(@href,'fishing')]//div[@class='item-title']\")\n",
    "\n",
    "    if target_location is None:\n",
    "        locations[-1].click()\n",
    "        return\n",
    "    \n",
    "    for location in locations:\n",
    "        if target_location.lower() in location.get_attribute(\"innerHTML\").lower():\n",
    "            location.click()\n",
    "            return\n",
    "\n",
    "    print(f\"Location {target_location} not found!\")"
   ]
  },
  {
   "cell_type": "markdown",
   "metadata": {},
   "source": [
    "# Info Functions"
   ]
  },
  {
   "cell_type": "code",
   "execution_count": null,
   "metadata": {},
   "outputs": [],
   "source": [
    "def is_harvest_available():\n",
    "    goto(\"home\")\n",
    "\n",
    "    WebDriverWait(driver, 1).until(EC.presence_of_element_located((By.XPATH, \"//a[contains(@href, 'xfarm.php?id')]//span[contains(@class,'ready ready')]\")))\n",
    "    message = driver.find_element(By.XPATH, \"//a[contains(@href, 'xfarm.php?id')]//span[contains(@class,'ready ready')]\").get_attribute(\"innerHTML\")\n",
    "\n",
    "    if message == \"\":\n",
    "        return False\n",
    "    elif \" Growing\" in message:\n",
    "        return False\n",
    "    elif \" READY!\" in message:\n",
    "        return True\n",
    "\n",
    "    "
   ]
  },
  {
   "cell_type": "code",
   "execution_count": null,
   "metadata": {},
   "outputs": [],
   "source": [
    "def get_available_crops(crop_select=None):\n",
    "    goto(\"farm\")\n",
    "    \n",
    "    if crop_select is None:\n",
    "        WebDriverWait(driver, 1).until(EC.presence_of_element_located((By.XPATH, \"//select[@class='seedid inlineinputlg']\")))\n",
    "        crop_select = Select(driver.find_element(By.XPATH, '//select[@class=\"seedid inlineinputlg\"]'))\n",
    "\n",
    "    return pd.DataFrame([[o.get_attribute(\"data-name\"), o.get_attribute(\"data-amt\")] for o in crop_select.options], columns=[\"name\", \"amount\"]).dropna()\n"
   ]
  },
  {
   "cell_type": "code",
   "execution_count": null,
   "metadata": {},
   "outputs": [],
   "source": [
    "def get_inventory():\n",
    "    goto(\"inventory\")\n",
    "\n",
    "    WebDriverWait(driver, 1).until(EC.presence_of_element_located((By.XPATH, \"//li[@class='list-group-title item-divider']\")))\n",
    "    item_divs = driver.find_elements(By.XPATH, \"//li[@class='group-items']/a\")\n",
    "\n",
    "    inventory_items = pd.DataFrame({\n",
    "        \"name\": [item.find_element(By.XPATH, \".//div[@class='item-title']/strong\").text for item in item_divs],\n",
    "        \"id\": [int(item.get_attribute(\"href\").replace(\"https://farmrpg.com/item.php?id=\",\"\")) for item in item_divs],\n",
    "        \"amount\": [int(item.find_element(By.XPATH, \".//div[@class='item-after']\").text) for item in item_divs],\n",
    "\n",
    "    })\n",
    "    return inventory_items\n",
    "\n",
    "get_inventory()"
   ]
  },
  {
   "cell_type": "code",
   "execution_count": null,
   "metadata": {},
   "outputs": [],
   "source": [
    "def get_craftable_items():\n",
    "    goto(\"workshop\")\n",
    "\n",
    "    WebDriverWait(driver, 1).until(EC.presence_of_element_located((By.XPATH, \"//div[contains(@class,'favcraftitems')]\")))\n",
    "    favourite_list = driver.find_elements(By.XPATH, \"//div[contains(@class,'favcraftitems')]//li\")\n",
    "    favourite_inputs = driver.find_elements(By.XPATH, \"//div[contains(@class,'favcraftitems')]//li//div[@class='item-title']//input\")\n",
    "    \n",
    "    craftable_items = pd.DataFrame(\n",
    "        {\n",
    "            \"name\": [item.get_attribute(\"data-name\") for item in favourite_list],\n",
    "            \"amount\": [int(item.get_attribute(\"value\")) for item in favourite_inputs]\n",
    "        }\n",
    "    )\n",
    "\n",
    "    return craftable_items.sort_values(\"amount\", ascending=False)\n"
   ]
  },
  {
   "cell_type": "code",
   "execution_count": null,
   "metadata": {},
   "outputs": [],
   "source": [
    "def get_fish_locations():\n",
    "    goto(\"fish\")\n",
    "        \n",
    "    WebDriverWait(driver, 1).until(EC.presence_of_element_located((By.XPATH, \"//ul//a[contains(@href,'fishing.php')]//div[@class='item-title']\")))\n",
    "    locations = driver.find_elements(By.XPATH, \"//ul//a[contains(@href,'fishing.php')]//div[@class='item-title']\")\n",
    "    return [location.get_attribute(\"innerHTML\").split(\"<br>\")[0] for location in locations]\n"
   ]
  },
  {
   "cell_type": "markdown",
   "metadata": {},
   "source": [
    "# Action Functions"
   ]
  },
  {
   "cell_type": "code",
   "execution_count": null,
   "metadata": {},
   "outputs": [],
   "source": [
    "def harvest():\n",
    "    goto(\"farm\")\n",
    "    WebDriverWait(driver, 1).until(EC.presence_of_element_located((By.XPATH, \"//a[contains(text(), 'Harvest All')]\")))\n",
    "    time.sleep(0.01)\n",
    "    try:\n",
    "        driver.find_element(By.XPATH, '//a[contains(text(), \"Harvest All\")]').click()\n",
    "    except Exception as e:\n",
    "        driver.refresh()\n",
    "        driver.find_element(By.XPATH, '//a[contains(text(), \"Harvest All\")]').click()\n"
   ]
  },
  {
   "cell_type": "code",
   "execution_count": null,
   "metadata": {},
   "outputs": [],
   "source": [
    "def plant_crop(crop_name):\n",
    "    goto(\"farm\")\n",
    "    \n",
    "    WebDriverWait(driver, 1).until(EC.presence_of_element_located((By.XPATH, \"//select[@class='seedid inlineinputlg']\")))\n",
    "    crop_select = Select(driver.find_element(By.XPATH, '//select[@class=\"seedid inlineinputlg\"]'))\n",
    "\n",
    "    available_crops = get_available_crops(crop_select=crop_select)\n",
    "\n",
    "    crop_name = crop_name[0].upper() + crop_name[1:].lower()\n",
    "    if \"seeds\" in crop_name.lower():\n",
    "        crop_name = crop_name.replace(\"seeds\",\"\").replace(\"Seeds\",\"\").replace(\" \",\"\")\n",
    "    crop_name += \" Seeds\"\n",
    "\n",
    "\n",
    "    crop_info = available_crops[available_crops.name == crop_name]\n",
    "\n",
    "    if crop_info.empty:\n",
    "        print(f\"Could not find crop {crop_name} in available crops\")\n",
    "        # TODO: implement buying\n",
    "        return\n",
    "\n",
    "    crop_select.select_by_index(crop_info.index.values[0])\n",
    "\n",
    "    driver.find_element(By.XPATH, '//a[contains(text(), \"Plant All\")]').click()\n",
    "    print(f'Planted {crop_name}')"
   ]
  },
  {
   "cell_type": "code",
   "execution_count": null,
   "metadata": {},
   "outputs": [],
   "source": [
    "def buy_bait():\n",
    "    goto(\"town\")\n",
    "\n",
    "    WebDriverWait(driver, 1).until(EC.presence_of_element_located((By.XPATH, \"//a[@href='store.php']\")))\n",
    "    driver.find_element(By.XPATH, \"//a[@href='store.php']\").click()\n",
    "\n",
    "    WebDriverWait(driver, 1).until(EC.presence_of_element_located((By.XPATH, \"//div[@data-page='store']\")))\n",
    "    worm_button = driver.find_element(By.XPATH, \"//button[@data-name='Worms']\")\n",
    "\n",
    "    driver.execute_script(\"arguments[0].scrollIntoView({ block: 'center', inline: 'center', offsetTop: -200 });\", worm_button)\n",
    "    worm_button.click()\n",
    "    time.sleep(0.5)\n",
    "\n",
    "    WebDriverWait(driver, 1).until(EC.presence_of_element_located((By.XPATH, \"//div[@class='actions-modal modal-in']\")))\n",
    "    driver.find_element(By.XPATH, \"//div[@class='actions-modal-button']\").click()\n",
    "\n",
    "    time.sleep(0.5)\n",
    "    WebDriverWait(driver, 1).until(EC.presence_of_element_located((By.XPATH, \"//span[@class='modal-button modal-button-bold']\")))\n",
    "    driver.find_element(By.XPATH, \"//span[@class='modal-button']\").click()\n",
    "\n"
   ]
  },
  {
   "cell_type": "code",
   "execution_count": null,
   "metadata": {},
   "outputs": [],
   "source": [
    "def replenish_stamina():\n",
    "    if driver.current_url != \"https://farmrpg.com/#!/fishing.php?id=2\":\n",
    "        go_to_fish_location(\"farm pond\")\n",
    "    \n",
    "    time.sleep(0.5)\n",
    "    fish_divs = driver.find_elements(By.XPATH, \"//img[@src='/img/items/fish.png']\")\n",
    "\n",
    "    def fish_coming_up(driver):\n",
    "        for fish in fish_divs:\n",
    "            if \"catch\" in fish.get_attribute(\"class\"):\n",
    "                return fish\n",
    "    \n",
    "    try:\n",
    "        max_stamina = int(driver.find_element(By.XPATH, \"//a[@href='supply.php']\").get_attribute(\"innerHTML\").split(\" \")[0])\n",
    "    except:\n",
    "        print(\"Stamina is full!\")\n",
    "        return\n",
    "        \n",
    "    \n",
    "    while True:\n",
    "        WebDriverWait(driver, 1).until(EC.presence_of_element_located((By.XPATH, \"//a[contains(@href,'changebait')]\")))\n",
    "        if int(driver.find_element(By.XPATH, \"//a[contains(@href,'changebait.php')]/../strong\").text) == 0:\n",
    "            print(\"No bait left!\")\n",
    "            buy_bait()\n",
    "\n",
    "        catchable = WebDriverWait(driver, 5).until(fish_coming_up)\n",
    "        ActionChains(driver).move_to_element(catchable.find_element(By.XPATH, '..')).click().perform()\n",
    "\n",
    "        time.sleep(0.2)\n",
    "\n",
    "        try:\n",
    "            WebDriverWait(driver, 1).until(EC.element_to_be_clickable((By.XPATH, \"//div[contains(@class,'fishcaught finalcatch')]\")))\n",
    "            driver.find_element(By.XPATH, \"//div[contains(@class,'fishcaught finalcatch')]\").click()\n",
    "            time.sleep(0.1)\n",
    "        except:\n",
    "            time.sleep(0.1)\n",
    "            pass\n",
    "            \n",
    "        current_stamina = int(driver.find_element(By.XPATH, \"//strong[@id='stamina']\").get_attribute(\"innerHTML\"))\n",
    "        if current_stamina == max_stamina:\n",
    "            break\n",
    "        "
   ]
  },
  {
   "cell_type": "code",
   "execution_count": null,
   "metadata": {},
   "outputs": [],
   "source": [
    "def explore(target_location=None, num=5, rate=10, replenish=True):\n",
    "    if \"area\" not in driver.current_url:\n",
    "        goto(\"explore\")\n",
    "            \n",
    "        WebDriverWait(driver, 1).until(EC.presence_of_element_located((By.XPATH, \"//ul//a[contains(@href,'area')]//div[@class='item-title']\")))\n",
    "        locations = driver.find_elements(By.XPATH, \"//ul//a[contains(@href,'area')]//div[@class='item-title']\")\n",
    "        \n",
    "        if target_location is None:\n",
    "            locations[-1].click()\n",
    "        else:\n",
    "            for location in locations:\n",
    "                if target_location.lower() == location.get_attribute(\"innerHTML\").split(\"<br>\")[0].lower():\n",
    "                    location.click()\n",
    "                    break\n",
    "            else:\n",
    "                print(f\"Could not find location {target_location}\")\n",
    "                return\n",
    "\n",
    "    time.sleep(0.5)\n",
    "\n",
    "    WebDriverWait(driver, 1).until(EC.presence_of_element_located((By.XPATH, \"//div[@id='exploreconsole']\")))\n",
    "    tab = driver.find_element(By.XPATH, \"//div[@id='exploreconsole']\")\n",
    "\n",
    "    for i in range(num):\n",
    "        if \"You have run out of stamina and cannot continue. Eat Apples, Drink OJ or fish at the\" in tab.get_attribute(\"innerHTML\"):\n",
    "            print(\"No stamina left\")\n",
    "            if replenish: \n",
    "                replenish_stamina()\n",
    "                explore(target_location=target_location, num=num-i, rate=rate, replenish=True)\n",
    "                break\n",
    "            else:\n",
    "                break\n",
    "        tab.click()\n",
    "        time.sleep(1/rate)\n"
   ]
  },
  {
   "cell_type": "code",
   "execution_count": null,
   "metadata": {},
   "outputs": [],
   "source": [
    "def fish_manually(target_location=None, num=3):\n",
    "    \n",
    "    if \"fishing\" not in driver.current_url:\n",
    "        go_to_fish_location(target_location)\n",
    "\n",
    "    time.sleep(0.5)\n",
    "    fish_divs = driver.find_elements(By.XPATH, \"//img[@src='/img/items/fish.png']\")\n",
    "\n",
    "    def fish_coming_up(driver):\n",
    "        for fish in fish_divs:\n",
    "            if \"catch\" in fish.get_attribute(\"class\"):\n",
    "                return fish\n",
    "    \n",
    "    time.sleep(1)\n",
    "\n",
    "    for i in range(num):\n",
    "        catchable = WebDriverWait(driver, 5).until(fish_coming_up)\n",
    "        ActionChains(driver).move_to_element(catchable.find_element(By.XPATH, '..')).click().perform()\n",
    "\n",
    "        time.sleep(0.2)\n",
    "\n",
    "        try:\n",
    "            WebDriverWait(driver, 1).until(EC.element_to_be_clickable((By.XPATH, \"//div[contains(@class,'fishcaught finalcatch')]\")))\n",
    "            driver.find_element(By.XPATH, \"//div[contains(@class,'fishcaught finalcatch')]\").click()\n",
    "            time.sleep(0.1)\n",
    "        except:\n",
    "            pass\n",
    "        # ActionChains(driver).move_to_element(driver.find_element(By.XPATH, \"//div[contains(@class,'fishcaught')]\")).click().perform()\n"
   ]
  },
  {
   "cell_type": "code",
   "execution_count": null,
   "metadata": {},
   "outputs": [],
   "source": [
    "def fish_with_nets(target_location=None, num=5):\n",
    "    if \"fishing\" not in driver.current_url:\n",
    "        go_to_fish_location(target_location)\n",
    "\n",
    "    WebDriverWait(driver, 1).until(EC.presence_of_element_located((By.XPATH, \"//div[contains(@class,'castnet')]\")))\n",
    "    net_div = driver.find_element(By.XPATH, \"//div[contains(@class,'castnet')]\")\n",
    "\n",
    "    if int(net_div.find_element(By.XPATH, \".//span[@class='netcount']\").text) == 0:\n",
    "        print(\"No nets left!\")\n",
    "        return\n",
    "\n",
    "    for i in range(num):\n",
    "        net_div.click()\n",
    "        time.sleep(0.1)\n",
    "\n",
    "fish_with_nets()"
   ]
  },
  {
   "cell_type": "code",
   "execution_count": null,
   "metadata": {},
   "outputs": [],
   "source": [
    "def craft_favourites():\n",
    "    goto(\"workshop\")\n",
    "\n",
    "    i = 10\n",
    "\n",
    "    while True:\n",
    "        WebDriverWait(driver, 1).until(EC.presence_of_element_located((By.XPATH, \"//div[contains(@class,'favcraftitems')]\")))\n",
    "        favourite_craft_buttons = driver.find_elements(\n",
    "            By.XPATH, \n",
    "            \"//div[contains(@class,'favcraftitems')]//li//div[@class='item-after']//button[contains(@class,'disable-select button btngreen craftbtnnc craftbtn')]\"\n",
    "        )\n",
    "        if len(favourite_craft_buttons) == 0:\n",
    "            break\n",
    "        \n",
    "        driver.execute_script(\"arguments[0].scrollIntoView({ block: 'center', inline: 'center', offsetTop: -200 });\", favourite_craft_buttons[0])\n",
    "        favourite_craft_buttons[0].click()\n",
    "        time.sleep(1)\n"
   ]
  },
  {
   "cell_type": "code",
   "execution_count": null,
   "metadata": {},
   "outputs": [],
   "source": [
    "def get_sellable_items():\n",
    "    goto(\"town\")\n",
    "    time.sleep(0.5)\n",
    "\n",
    "    WebDriverWait(driver, 1).until(EC.presence_of_element_located((By.XPATH, \"//a[@href='market.php']\")))\n",
    "    driver.find_element(By.XPATH, \"//a[@href='market.php']\").click()\n",
    "\n",
    "    time.sleep(0.5)\n",
    "\n",
    "    WebDriverWait(driver, 1).until(EC.presence_of_element_located((By.XPATH, \"//a[@class='sellallunlockedmaxbtn']\")))\n",
    "\n",
    "\n",
    "    sell_buttons = driver.find_elements(By.XPATH, \"//button[contains(@class,'sellbtn')]\")\n",
    "    number_inputs = driver.find_elements(By.XPATH, \"//div[@class='page-content']//div[@class='card-content']//ul//div[@class='item-title']//input\")\n",
    "    assert len(sell_buttons) == len(number_inputs), \"Number of sell buttons and number inputs do not match!\"\n",
    "\n",
    "    sellable_items = pd.DataFrame({\n",
    "        \"name\": [item.get_attribute(\"data-name\") for item in sell_buttons],\n",
    "        \"id\": [int(item.get_attribute(\"data-id\")) for item in sell_buttons],\n",
    "        \"price\": [int(item.get_attribute(\"data-price\")) for item in number_inputs],\n",
    "        \"amount\": [int(item.get_attribute(\"value\")) for item in number_inputs]\n",
    "    })\n",
    "    sellable_items[\"total_price\"] = sellable_items[\"price\"] * sellable_items[\"amount\"]\n",
    "    \n",
    "    return sellable_items.sort_values(\"amount\", ascending=False)\n"
   ]
  },
  {
   "cell_type": "code",
   "execution_count": null,
   "metadata": {},
   "outputs": [],
   "source": [
    "sellable_items = [\"sturdy shield\",\"sturdy sword\",\"fancy pipe\"]\n",
    "\n",
    "def sell_items(items=sellable_items, min_inventory=200, buffer=50):\n",
    "    sellable_items = get_sellable_items()\n",
    "\n",
    "    sellable_items[\"sellable_amount\"] = np.maximum(0, sellable_items[\"amount\"].values - min_inventory)\n",
    "    \n",
    "    sellable_items.loc[sellable_items[\"name\"].isin(items), \"sellable_amount\"] = sellable_items.loc[sellable_items[\"name\"].isin(items), \"amount\"]\n",
    "    sellable_items = sellable_items[sellable_items[\"sellable_amount\"] > buffer]\n",
    "\n",
    "    # print(sellable_items)\n",
    "\n",
    "    for i, row in sellable_items.iterrows():\n",
    "        print(f\"Selling {row['sellable_amount']:>4} {row['name']:<16} for {row['total_price']:>8}\")\n",
    "\n",
    "        driver.find_element(By.XPATH, f\"//input[@data-id='{row[\"id\"]}']\").clear()\n",
    "        driver.find_element(By.XPATH, f\"//input[@data-id='{row[\"id\"]}']\").send_keys(str(row[\"sellable_amount\"]))\n",
    "        driver.find_element(By.XPATH, f\"//input[@data-id='{row[\"id\"]}']\").send_keys(Keys.ENTER)\n",
    "        time.sleep(0.2)\n",
    "\n",
    "        sell_button = driver.find_element(By.XPATH, f\"//button[@data-id='{row[\"id\"]}' and contains(@class, 'sellbtn')]\")\n",
    "        driver.execute_script(\"arguments[0].scrollIntoView({ block: 'center', inline: 'center', offsetTop: -200 });\", sell_button)\n",
    "        sell_button.click()\n",
    "        time.sleep(0.2)\n",
    "\n",
    "        WebDriverWait(driver, 1).until(EC.presence_of_element_located((By.XPATH, \"//div[@class='actions-modal modal-in']\")))\n",
    "        driver.find_element(By.XPATH, \"//div[@class='actions-modal-button']\").click()\n",
    "\n",
    "        time.sleep(0.2)\n",
    "        WebDriverWait(driver, 1).until(EC.presence_of_element_located((By.XPATH, \"//span[@class='modal-button modal-button-bold']\")))\n",
    "        driver.find_element(By.XPATH, \"//span[@class='modal-button modal-button-bold']\").click()\n",
    "\n",
    "        time.sleep(0.5)\n",
    "\n",
    "sell_items()\n"
   ]
  },
  {
   "cell_type": "markdown",
   "metadata": {},
   "source": [
    "# Loops"
   ]
  },
  {
   "cell_type": "code",
   "execution_count": null,
   "metadata": {},
   "outputs": [],
   "source": [
    "\n",
    "while True:\n",
    "    try:\n",
    "        harvest()\n",
    "        plant_crop(\"eggplant\")\n",
    "        \n",
    "        explore(target_location=\"black rock canyon\", num=50)\n",
    "        explore(target_location=None, num=20)\n",
    "        explore(target_location=\"forest\", num=30)\n",
    "        craft_favourites()\n",
    "        sell_items()\n",
    "\n",
    "        # check inv and do something (FN, townsfolk, specials, help requests)\n",
    "        inv = get_inventory()\n",
    "        if inv.loc[inv[\"name\"] == \"Fishing Net\", \"amount\"].iloc[0] > 300:\n",
    "            fish_with_nets(num=200)\n",
    "\n",
    "    except Exception as e:\n",
    "        print(\"--------------------------------------------------\\n\", e)\n",
    "        time.sleep(10)\n",
    "        pass\n"
   ]
  },
  {
   "cell_type": "code",
   "execution_count": null,
   "metadata": {},
   "outputs": [],
   "source": [
    "while True:\n",
    "    try:\n",
    "        explore(target_location=\"black rock canyon\", num=100)\n",
    "    except Exception as e:\n",
    "        print(\"--------------------------------------------------\\n\",e)\n",
    "        pass\n"
   ]
  },
  {
   "cell_type": "code",
   "execution_count": null,
   "metadata": {},
   "outputs": [],
   "source": [
    "# try threads and tab windows"
   ]
  }
 ],
 "metadata": {
  "kernelspec": {
   "display_name": "Python 3",
   "language": "python",
   "name": "python3"
  },
  "language_info": {
   "codemirror_mode": {
    "name": "ipython",
    "version": 3
   },
   "file_extension": ".py",
   "mimetype": "text/x-python",
   "name": "python",
   "nbconvert_exporter": "python",
   "pygments_lexer": "ipython3",
   "version": "3.12.0"
  }
 },
 "nbformat": 4,
 "nbformat_minor": 2
}
